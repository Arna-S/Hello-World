{
  "nbformat": 4,
  "nbformat_minor": 0,
  "metadata": {
    "accelerator": "GPU",
    "colab": {
      "name": "IANNWTF20_HW3.ipynb",
      "provenance": [],
      "collapsed_sections": [],
      "include_colab_link": true
    },
    "kernelspec": {
      "display_name": "Python 3",
      "language": "python",
      "name": "python3"
    },
    "language_info": {
      "codemirror_mode": {
        "name": "ipython",
        "version": 3
      },
      "file_extension": ".py",
      "mimetype": "text/x-python",
      "name": "python",
      "nbconvert_exporter": "python",
      "pygments_lexer": "ipython3",
      "version": "3.7.9"
    }
  },
  "cells": [
    {
      "cell_type": "markdown",
      "metadata": {
        "id": "view-in-github",
        "colab_type": "text"
      },
      "source": [
        "<a href=\"https://colab.research.google.com/github/Arna-S/Hello-World/blob/main/IANNWTF20_HW3.ipynb\" target=\"_parent\"><img src=\"https://colab.research.google.com/assets/colab-badge.svg\" alt=\"Open In Colab\"/></a>"
      ]
    },
    {
      "cell_type": "code",
      "metadata": {
        "id": "FvemRI4ot5_e"
      },
      "source": [
        "import tensorflow as tf\n",
        "import matplotlib.pyplot as plt\n",
        "import numpy as np"
      ],
      "execution_count": null,
      "outputs": []
    },
    {
      "cell_type": "code",
      "metadata": {
        "id": "_QmqdHsWuVQU"
      },
      "source": [
        "import tensorflow_datasets as tfds"
      ],
      "execution_count": null,
      "outputs": []
    },
    {
      "cell_type": "code",
      "metadata": {
        "id": "7fVtCMYYv_k9"
      },
      "source": [
        "ds, info = tfds.load('genomics_ood', with_info=True, as_supervised=True)"
      ],
      "execution_count": null,
      "outputs": []
    },
    {
      "cell_type": "code",
      "metadata": {
        "id": "QdT5Rxwewka4"
      },
      "source": [
        "# print(info)"
      ],
      "execution_count": null,
      "outputs": []
    },
    {
      "cell_type": "code",
      "metadata": {
        "colab": {
          "base_uri": "https://localhost:8080/"
        },
        "id": "_I7wQV2Cwupq",
        "outputId": "9d697e14-2974-4287-8511-70a2aa11bec5"
      },
      "source": [
        "ds"
      ],
      "execution_count": null,
      "outputs": [
        {
          "output_type": "execute_result",
          "data": {
            "text/plain": [
              "{'test': <PrefetchDataset shapes: ((), ()), types: (tf.string, tf.int64)>,\n",
              " 'test_ood': <PrefetchDataset shapes: ((), ()), types: (tf.string, tf.int64)>,\n",
              " 'train': <PrefetchDataset shapes: ((), ()), types: (tf.string, tf.int64)>,\n",
              " 'validation': <PrefetchDataset shapes: ((), ()), types: (tf.string, tf.int64)>,\n",
              " 'validation_ood': <PrefetchDataset shapes: ((), ()), types: (tf.string, tf.int64)>}"
            ]
          },
          "metadata": {
            "tags": []
          },
          "execution_count": 5
        }
      ]
    },
    {
      "cell_type": "code",
      "metadata": {
        "id": "878ysEUJwyOH"
      },
      "source": [
        "train_data, test_data = ds[\"train\"], ds[\"test\"]"
      ],
      "execution_count": null,
      "outputs": []
    },
    {
      "cell_type": "code",
      "metadata": {
        "id": "h67R822cx8Vd"
      },
      "source": [
        "# shuffel and create batches of training data\n",
        "train_data = train_data.take(100000)\n",
        "train_data = train_data.shuffle(10000)\n",
        "train_data = train_data.batch(256)\n",
        "\n",
        "test_data = test_data.take(1000)\n",
        "test_data = test_data.batch(256)\n"
      ],
      "execution_count": null,
      "outputs": []
    },
    {
      "cell_type": "code",
      "metadata": {
        "colab": {
          "base_uri": "https://localhost:8080/"
        },
        "id": "GRc0DCo7gLx5",
        "outputId": "7267956a-bcea-42a7-9ace-16ea3ce88f04"
      },
      "source": [
        "# count number of batches in one epoch\n",
        "count = 0\n",
        "for batch in train_data:\n",
        "    count+=1\n",
        "print(count)"
      ],
      "execution_count": null,
      "outputs": [
        {
          "output_type": "stream",
          "text": [
            "391\n"
          ],
          "name": "stdout"
        }
      ]
    },
    {
      "cell_type": "code",
      "metadata": {
        "colab": {
          "base_uri": "https://localhost:8080/"
        },
        "id": "6M5b_vIuyuk9",
        "outputId": "d27f772d-9baf-4e9c-ede3-bf07e05b9988"
      },
      "source": [
        "# check data\n",
        "\n",
        "for batch in train_data:\n",
        "    print(batch[0][0])   # input\n",
        "    print(batch[1][0])   # label\n",
        "    # print((batch['seq'].shape, batch['label']))\n",
        "    # for input_seq in batch['seq']:\n",
        "        # print(input_seq)\n",
        "        # break\n",
        "    break"
      ],
      "execution_count": null,
      "outputs": [
        {
          "output_type": "stream",
          "text": [
            "tf.Tensor(b'GTATAGCCCGCCCAGCGACCAATGGCTTTATCGGCATAGGTGGAAAACGAACCGGTATCGGGCGTGGCAACCGCCATTTCCGCCAACATCCGCATAATCATAACCACCAGTAATCCGGCGAACAGATAGGCCAGTAATACCGCCGGGCCCGCTTCGGCGATGGCGACGCTGGAACCGACAAACAGACTTGCGCCGATAACACCGGCAATAGACAACATGGTGACGTGGCGTGACTTCAGCCCGCCGCCTA', shape=(), dtype=string)\n",
            "tf.Tensor(3, shape=(), dtype=int64)\n"
          ],
          "name": "stdout"
        }
      ]
    },
    {
      "cell_type": "code",
      "metadata": {
        "colab": {
          "base_uri": "https://localhost:8080/"
        },
        "id": "H0LW4SOuMfxD",
        "outputId": "3b276df7-9ddb-4d35-9c4e-ee8b148261b5"
      },
      "source": [
        "batch[0][0].numpy()"
      ],
      "execution_count": null,
      "outputs": [
        {
          "output_type": "execute_result",
          "data": {
            "text/plain": [
              "b'GTATAGCCCGCCCAGCGACCAATGGCTTTATCGGCATAGGTGGAAAACGAACCGGTATCGGGCGTGGCAACCGCCATTTCCGCCAACATCCGCATAATCATAACCACCAGTAATCCGGCGAACAGATAGGCCAGTAATACCGCCGGGCCCGCTTCGGCGATGGCGACGCTGGAACCGACAAACAGACTTGCGCCGATAACACCGGCAATAGACAACATGGTGACGTGGCGTGACTTCAGCCCGCCGCCTA'"
            ]
          },
          "metadata": {
            "tags": []
          },
          "execution_count": 10
        }
      ]
    },
    {
      "cell_type": "code",
      "metadata": {
        "id": "ZEm5RXpa4SGJ"
      },
      "source": [
        "# def get_onehot_encoding(input_seq_batch):\n",
        "#     vocab_encoding = {'A':0, 'C':1, 'G':2, 'T':3}\n",
        "#     tensor_batch = []\n",
        "#     for input_seq in input_seq_batch:\n",
        "#         tensor = []\n",
        "#         input_seq.numpy().decode(\"utf-8\")\n",
        "#         for genome in input_seq.numpy().decode(\"utf-8\"):\n",
        "#             # concatinate all onehot of nucleotidesz\n",
        "#             tensor.extend(tf.one_hot(vocab_encoding[genome], 4).numpy())\n",
        "#         tensor_batch.append(tensor)\n",
        "#     return tf.constant(tensor_batch)\n"
      ],
      "execution_count": null,
      "outputs": []
    },
    {
      "cell_type": "code",
      "metadata": {
        "id": "YZsEnhb0iJXX"
      },
      "source": [
        "# %%timeit\n",
        "# # check get_onehot_encoding method:\n",
        "# for batch in train_data:\n",
        "#     X = get_onehot_encoding(batch[0])\n",
        "#     print(X.shape)\n",
        "#     break"
      ],
      "execution_count": null,
      "outputs": []
    },
    {
      "cell_type": "code",
      "metadata": {
        "id": "i_6bH8VdiJXX"
      },
      "source": [
        "# def get_onehot_encoding(input_seq_batch):\n",
        "#     vocab_encoding = {'A':0, 'C':1, 'G':2, 'T':3}\n",
        "#     tensor_batch = None\n",
        "#     for input_seq in input_seq_batch:\n",
        "#         tensor = np.zeros(0)\n",
        "#         input_seq.numpy().decode(\"utf-8\")\n",
        "#         for genome in input_seq.numpy().decode(\"utf-8\"):\n",
        "#             # concatinate all onehot of nucleotidesz\n",
        "#             tensor = np.concatenate((tensor, tf.one_hot(vocab_encoding[genome], 4).numpy()))            \n",
        "#         if tensor_batch is None:\n",
        "#             tensor_batch = tensor\n",
        "#         else:\n",
        "#             tensor_batch = np.vstack((tensor_batch, tensor))\n",
        "#     return tf.constant(tensor_batch)"
      ],
      "execution_count": null,
      "outputs": []
    },
    {
      "cell_type": "code",
      "metadata": {
        "id": "poHajc-4iJXX"
      },
      "source": [
        "# %%timeit\n",
        "# # check get_onehot_encoding method:\n",
        "# for batch in train_data:\n",
        "#     X = get_onehot_encoding(batch[0])\n",
        "#     print(X.shape)\n",
        "#     break"
      ],
      "execution_count": null,
      "outputs": []
    },
    {
      "cell_type": "code",
      "metadata": {
        "id": "HgwuvAYYiJXX"
      },
      "source": [
        "def onehotify(input_seq_batch):\n",
        "    vocab = {'A': '0', 'C': '1', 'G': '2', 'T': '3'}\n",
        "    tensor_batch = None\n",
        "    for tensor in input_seq_batch:\n",
        "        for key in vocab.keys():\n",
        "            tensor = tf.strings.regex_replace(tensor, key, vocab[key])\n",
        "        split = tf.strings.bytes_split(tensor)\n",
        "        labels = tf.cast(tf.strings.to_number(split), tf.uint8)\n",
        "        onehot = tf.one_hot(labels, 4)\n",
        "        onehot = tf.reshape(onehot, (-1,))\n",
        "        \n",
        "        if tensor_batch is None:\n",
        "            tensor_batch = onehot.numpy()\n",
        "        else:\n",
        "            tensor_batch = np.vstack((tensor_batch, onehot.numpy()))\n",
        "    \n",
        "    return tensor_batch"
      ],
      "execution_count": null,
      "outputs": []
    },
    {
      "cell_type": "code",
      "metadata": {
        "id": "PbPjnDSuiJXX",
        "outputId": "8de39de2-e406-4a93-fdd0-9424e25125d4"
      },
      "source": [
        "%%timeit\n",
        "# check get_onehot_encoding method:\n",
        "for batch in train_data:\n",
        "    X = onehotify(batch[0])\n",
        "    print(X.shape)\n",
        "    break"
      ],
      "execution_count": null,
      "outputs": [
        {
          "output_type": "stream",
          "text": [
            "(256, 1000)\n",
            "(256, 1000)\n",
            "(256, 1000)\n",
            "(256, 1000)\n",
            "(256, 1000)\n",
            "(256, 1000)\n",
            "(256, 1000)\n",
            "(256, 1000)\n",
            "796 ms ± 46.3 ms per loop (mean ± std. dev. of 7 runs, 1 loop each)\n"
          ],
          "name": "stdout"
        }
      ]
    },
    {
      "cell_type": "code",
      "metadata": {
        "id": "kuoE4ez0X0S4"
      },
      "source": [
        "class MyModel(tf.keras.Model):\n",
        "    def __init__(self):\n",
        "        super().__init__()\n",
        "\n",
        "        # Hidden layer\n",
        "        self.hidden1 = tf.keras.layers.Dense(units=256, activation=tf.nn.sigmoid)\n",
        "        self.hidden2 = tf.keras.layers.Dense(units=256, activation=tf.nn.sigmoid,)\n",
        "        self.out = tf.keras.layers.Dense(10, activation=tf.nn.softmax)\n",
        "    \n",
        "    # Define the forward propagation of the model, that is, how to return the\n",
        "    # required model output based on the input `X`\n",
        "    def call(self, X):\n",
        "        X = self.hidden1(X)\n",
        "        X = self.hidden2(X)\n",
        "        return self.out(X)\n",
        "        "
      ],
      "execution_count": null,
      "outputs": []
    },
    {
      "cell_type": "code",
      "metadata": {
        "id": "FVSO15EhmFkI"
      },
      "source": [
        "# initialize model\n",
        "model = MyModel()"
      ],
      "execution_count": null,
      "outputs": []
    },
    {
      "cell_type": "code",
      "metadata": {
        "id": "ldGU4T9iaS83"
      },
      "source": [
        "# initialize the model:\n",
        "for batch in train_data:\n",
        "    # print((batch['seq'].shape, batch['label']))\n",
        "    X = onehotify(batch[0])\n",
        "    model(X)\n",
        "    break"
      ],
      "execution_count": null,
      "outputs": []
    },
    {
      "cell_type": "code",
      "metadata": {
        "id": "OXTySHBHl07g"
      },
      "source": [
        "# model hyper parameters:\n",
        "cross_entropy_loss = tf.keras.losses.CategoricalCrossentropy()\n",
        "optimizer = tf.keras.optimizers.SGD(learning_rate=0.1)"
      ],
      "execution_count": null,
      "outputs": []
    },
    {
      "cell_type": "code",
      "metadata": {
        "colab": {
          "base_uri": "https://localhost:8080/"
        },
        "id": "h6OCJOqYmvS0",
        "outputId": "21b75da1-5764-4a70-8499-b6aca4dfcdd5"
      },
      "source": [
        "# training step\n",
        "\n",
        "epochs = 5\n",
        "\n",
        "# Initialize lists for later visualiztion\n",
        "train_steps = []\n",
        "train_losses = []\n",
        "train_accuracies = []\n",
        "test_steps = []\n",
        "test_losses = []\n",
        "test_accuracies = []\n",
        "step = 0\n",
        "\n",
        "\n",
        "for epoch in range(epochs):\n",
        "    print(f\"Epoch number: {epoch}\")\n",
        "    for batch in train_data:\n",
        "        if step%10==0: print(\".\",end=\"\") # to print progress of training\n",
        "        X = batch[0]\n",
        "        # get one hot encoding of input\n",
        "        X = onehotify(X)\n",
        "        \n",
        "        target = batch[1]\n",
        "        # get onehot encoding for label\n",
        "        target = tf.one_hot(target, depth = 10)\n",
        "\n",
        "        # training step\n",
        "        with tf.GradientTape() as tape:\n",
        "            y_hat = model(X)\n",
        "            loss = cross_entropy_loss(target, y_hat)\n",
        "        params = model.trainable_variables\n",
        "        grads = tape.gradient(loss, params)\n",
        "\n",
        "        # updates weights:\n",
        "        optimizer.apply_gradients(zip(grads, params))\n",
        "        \n",
        "        \n",
        "        # training accuracy calculations\n",
        "        if step % 25 == 0:\n",
        "            # Compute the accuracy.\n",
        "            accuracy = np.sum(np.argmax(target, axis=1) == np.argmax(y_hat, axis=1)) / target.shape[0]\n",
        "            # Store loss and accuracy.\n",
        "            train_steps.append(step)\n",
        "            train_accuracies.append(accuracy)\n",
        "            train_losses.append(loss)\n",
        "            \n",
        "        # Calculate the test loss and accuracy every 50 steps.\n",
        "        if step % 50 == 0:\n",
        "            for (x,t) in test_data:\n",
        "                # Compute loss and accuracy for the test data.\n",
        "                t = tf.reshape(t, shape=[-1])\n",
        "                t = tf.one_hot(t.numpy(), 10)\n",
        "                x = onehotify(x)\n",
        "                output = model(x)\n",
        "                loss = cross_entropy_loss(t, output)\n",
        "                accuracy = np.sum(np.argmax(t, axis=1) == np.argmax(output, axis=1)) / t.shape[0]\n",
        "                ######################\n",
        "                test_steps.append(step)\n",
        "                test_accuracies.append(accuracy)\n",
        "                test_losses.append(loss)\n",
        "\n",
        "        step+=1\n",
        "    print()"
      ],
      "execution_count": null,
      "outputs": [
        {
          "output_type": "stream",
          "text": [
            "Epoch number: 0\n",
            "........................................\n",
            "Epoch number: 1\n",
            ".......................................\n",
            "Epoch number: 2\n",
            ".......................................\n",
            "Epoch number: 3\n",
            ".......................................\n",
            "Epoch number: 4\n",
            ".......................................\n"
          ],
          "name": "stdout"
        }
      ]
    },
    {
      "cell_type": "code",
      "metadata": {
        "id": "bBkRpe31rAqY",
        "outputId": "f67b81ad-bd95-4d42-f908-2c3c4714a117"
      },
      "source": [
        "plt.plot(train_losses)\n",
        "plt.show()"
      ],
      "execution_count": null,
      "outputs": [
        {
          "output_type": "display_data",
          "data": {
            "image/png": "[encoded data removed]",
            "text/plain": [
              "<Figure size 432x288 with 1 Axes>"
            ]
          },
          "metadata": {
            "tags": [],
            "needs_background": "light"
          }
        }
      ]
    },
    {
      "cell_type": "code",
      "metadata": {
        "id": "qzFMIGnriJXX",
        "outputId": "d1072acf-1d91-42a8-d34b-738991f4c61e"
      },
      "source": [
        "### YOUR CODE HERE ###\n",
        "plt.figure(figsize=(10,5))\n",
        "line1, = plt.plot(train_steps, train_losses)\n",
        "line2, = plt.plot(test_steps, test_losses)\n",
        "plt.xlabel(\"Training steps\")\n",
        "plt.ylabel(\"Loss\")\n",
        "plt.legend((line1,line2),(\"training\",\"test\"))\n",
        "plt.show()\n",
        "\n",
        "plt.figure(figsize=(10,5))\n",
        "line1, = plt.plot(train_steps, train_accuracies)\n",
        "line2, = plt.plot(test_steps, test_accuracies)\n",
        "plt.xlabel(\"Training steps\")\n",
        "plt.ylabel(\"Accuracy\")\n",
        "plt.legend((line1,line2),(\"training\",\"test\"))\n",
        "plt.show()"
      ],
      "execution_count": null,
      "outputs": [
        {
          "output_type": "display_data",
          "data": {
            "image/png": "[encoded data removed]",
            "text/plain": [
              "<Figure size 720x360 with 1 Axes>"
            ]
          },
          "metadata": {
            "tags": [],
            "needs_background": "light"
          }
        },
        {
          "output_type": "display_data",
          "data": {
            "image/png": "[encoded data removed]",
            "text/plain": [
              "<Figure size 720x360 with 1 Axes>"
            ]
          },
          "metadata": {
            "tags": [],
            "needs_background": "light"
          }
        }
      ]
    },
    {
      "cell_type": "code",
      "metadata": {
        "id": "8tjJ_KV1iJXY",
        "outputId": "5c3cc607-da58-4bbc-9d49-2c9275d3015f"
      },
      "source": [
        "print(f\"Test Accuracy: {test_accuracies[-1]}\")"
      ],
      "execution_count": null,
      "outputs": [
        {
          "output_type": "stream",
          "text": [
            "Test Accuracy: 0.3922413793103448\n"
          ],
          "name": "stdout"
        }
      ]
    }
  ]
}